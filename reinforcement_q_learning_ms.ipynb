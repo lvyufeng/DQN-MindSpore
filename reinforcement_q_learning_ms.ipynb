{
 "cells": [
  {
   "cell_type": "code",
   "execution_count": 1,
   "metadata": {
    "collapsed": false,
    "jupyter": {
     "outputs_hidden": false
    }
   },
   "outputs": [],
   "source": [
    "%matplotlib inline"
   ]
  },
  {
   "cell_type": "markdown",
   "metadata": {},
   "source": [
    "\n",
    "# Reinforcement Learning (DQN) Tutorial\n",
    "**Author**: [Adam Paszke](https://github.com/apaszke)\n",
    "\n",
    "\n",
    "This tutorial shows how to use PyTorch to train a Deep Q Learning (DQN) agent\n",
    "on the CartPole-v1 task from the [OpenAI Gym](https://www.gymlibrary.dev/)_.\n",
    "\n",
    "**Task**\n",
    "\n",
    "The agent has to decide between two actions - moving the cart left or\n",
    "right - so that the pole attached to it stays upright. You can find an\n",
    "official leaderboard with various algorithms and visualizations at the\n",
    "[Gym website](https://www.gymlibrary.dev/environments/classic_control/cart_pole)_.\n",
    "\n",
    ".. figure:: /_static/img/cartpole.gif\n",
    "   :alt: cartpole\n",
    "\n",
    "   cartpole\n",
    "\n",
    "As the agent observes the current state of the environment and chooses\n",
    "an action, the environment *transitions* to a new state, and also\n",
    "returns a reward that indicates the consequences of the action. In this\n",
    "task, rewards are +1 for every incremental timestep and the environment\n",
    "terminates if the pole falls over too far or the cart moves more then 2.4\n",
    "units away from center. This means better performing scenarios will run\n",
    "for longer duration, accumulating larger return.\n",
    "\n",
    "The CartPole task is designed so that the inputs to the agent are 4 real\n",
    "values representing the environment state (position, velocity, etc.).\n",
    "We take these 4 inputs without any scaling and pass them through a \n",
    "small fully-connected network with 2 outputs, one for each action. \n",
    "The network is trained to predict the expected value for each action, \n",
    "given the input state. The action with the highest expected value is \n",
    "then chosen.\n",
    "\n",
    "\n",
    "**Packages**\n",
    "\n",
    "\n",
    "First, let's import needed packages. Firstly, we need\n",
    "[gym](https://github.com/openai/gym)_ for the environment\n",
    "Install by using `pip`. If you are running this in Google colab, run:\n"
   ]
  },
  {
   "cell_type": "code",
   "execution_count": 2,
   "metadata": {
    "collapsed": false,
    "jupyter": {
     "outputs_hidden": false
    }
   },
   "outputs": [
    {
     "name": "stdout",
     "output_type": "stream",
     "text": [
      "Requirement already satisfied: gym[classic_control] in /Users/lvyufeng/miniconda3/envs/mindspore/lib/python3.7/site-packages (0.25.2)\n",
      "Requirement already satisfied: gym-notices>=0.0.4 in /Users/lvyufeng/miniconda3/envs/mindspore/lib/python3.7/site-packages (from gym[classic_control]) (0.0.8)\n",
      "Requirement already satisfied: numpy>=1.18.0 in /Users/lvyufeng/miniconda3/envs/mindspore/lib/python3.7/site-packages (from gym[classic_control]) (1.21.6)\n",
      "Requirement already satisfied: importlib-metadata>=4.8.0 in /Users/lvyufeng/miniconda3/envs/mindspore/lib/python3.7/site-packages (from gym[classic_control]) (4.11.1)\n",
      "Requirement already satisfied: cloudpickle>=1.2.0 in /Users/lvyufeng/miniconda3/envs/mindspore/lib/python3.7/site-packages (from gym[classic_control]) (2.1.0)\n",
      "Requirement already satisfied: pygame==2.1.0 in /Users/lvyufeng/miniconda3/envs/mindspore/lib/python3.7/site-packages (from gym[classic_control]) (2.1.0)\n",
      "Requirement already satisfied: zipp>=0.5 in /Users/lvyufeng/miniconda3/envs/mindspore/lib/python3.7/site-packages (from importlib-metadata>=4.8.0->gym[classic_control]) (3.7.0)\n",
      "Requirement already satisfied: typing-extensions>=3.6.4 in /Users/lvyufeng/miniconda3/envs/mindspore/lib/python3.7/site-packages (from importlib-metadata>=4.8.0->gym[classic_control]) (4.1.1)\n"
     ]
    }
   ],
   "source": [
    "%%bash\n",
    "pip3 install gym[classic_control]"
   ]
  },
  {
   "cell_type": "markdown",
   "metadata": {},
   "source": [
    "We'll also use the following from PyTorch:\n",
    "\n",
    "-  neural networks (``torch.nn``)\n",
    "-  optimization (``torch.optim``)\n",
    "-  automatic differentiation (``torch.autograd``)\n"
   ]
  },
  {
   "cell_type": "code",
   "execution_count": 3,
   "metadata": {
    "collapsed": false,
    "jupyter": {
     "outputs_hidden": false
    }
   },
   "outputs": [
    {
     "data": {
      "text/plain": [
       "<matplotlib.pyplot._IonContext at 0x7faeb8495590>"
      ]
     },
     "execution_count": 3,
     "metadata": {},
     "output_type": "execute_result"
    }
   ],
   "source": [
    "import gym\n",
    "import math\n",
    "import random\n",
    "import numpy as np\n",
    "import matplotlib\n",
    "import matplotlib.pyplot as plt\n",
    "from collections import namedtuple, deque\n",
    "from itertools import count\n",
    "\n",
    "import mindspore\n",
    "import mindspore.nn as nn\n",
    "import mindspore.ops as ops\n",
    "from mindspore import Tensor\n",
    "\n",
    "if gym.__version__[:4] == '0.26':\n",
    "    env = gym.make('CartPole-v1')\n",
    "elif gym.__version__[:4] == '0.25':\n",
    "    env = gym.make('CartPole-v1', new_step_api=True)\n",
    "else:\n",
    "    raise ImportError(f\"Requires gym v25 or v26, actual version: {gym.__version__}\")\n",
    "\n",
    "# set up matplotlib\n",
    "is_ipython = 'inline' in matplotlib.get_backend()\n",
    "if is_ipython:\n",
    "    from IPython import display\n",
    "\n",
    "plt.ion()"
   ]
  },
  {
   "cell_type": "markdown",
   "metadata": {},
   "source": [
    "## Replay Memory\n",
    "\n",
    "We'll be using experience replay memory for training our DQN. It stores\n",
    "the transitions that the agent observes, allowing us to reuse this data\n",
    "later. By sampling from it randomly, the transitions that build up a\n",
    "batch are decorrelated. It has been shown that this greatly stabilizes\n",
    "and improves the DQN training procedure.\n",
    "\n",
    "For this, we're going to need two classses:\n",
    "\n",
    "-  ``Transition`` - a named tuple representing a single transition in\n",
    "   our environment. It essentially maps (state, action) pairs\n",
    "   to their (next_state, reward) result, with the state being the\n",
    "   screen difference image as described later on.\n",
    "-  ``ReplayMemory`` - a cyclic buffer of bounded size that holds the\n",
    "   transitions observed recently. It also implements a ``.sample()``\n",
    "   method for selecting a random batch of transitions for training.\n",
    "\n",
    "\n"
   ]
  },
  {
   "cell_type": "code",
   "execution_count": 4,
   "metadata": {
    "collapsed": false,
    "jupyter": {
     "outputs_hidden": false
    }
   },
   "outputs": [],
   "source": [
    "Transition = namedtuple('Transition',\n",
    "                        ('state', 'action', 'next_state', 'reward'))\n",
    "\n",
    "\n",
    "class ReplayMemory(object):\n",
    "\n",
    "    def __init__(self, capacity):\n",
    "        self.memory = deque([],maxlen=capacity)\n",
    "\n",
    "    def push(self, *args):\n",
    "        \"\"\"Save a transition\"\"\"\n",
    "        self.memory.append(Transition(*args))\n",
    "\n",
    "    def sample(self, batch_size):\n",
    "        return random.sample(self.memory, batch_size)\n",
    "\n",
    "    def __len__(self):\n",
    "        return len(self.memory)"
   ]
  },
  {
   "cell_type": "markdown",
   "metadata": {},
   "source": [
    "Now, let's define our model. But first, let's quickly recap what a DQN is.\n",
    "\n",
    "## DQN algorithm\n",
    "\n",
    "Our environment is deterministic, so all equations presented here are\n",
    "also formulated deterministically for the sake of simplicity. In the\n",
    "reinforcement learning literature, they would also contain expectations\n",
    "over stochastic transitions in the environment.\n",
    "\n",
    "Our aim will be to train a policy that tries to maximize the discounted,\n",
    "cumulative reward\n",
    "$R_{t_0} = \\sum_{t=t_0}^{\\infty} \\gamma^{t - t_0} r_t$, where\n",
    "$R_{t_0}$ is also known as the *return*. The discount,\n",
    "$\\gamma$, should be a constant between $0$ and $1$\n",
    "that ensures the sum converges. A lower $\\gamma$ makes \n",
    "rewards from the uncertain far future less important for our agent \n",
    "than the ones in the near future that it can be fairly confident \n",
    "about. It also encourages agents to collect reward closer in time \n",
    "than equivalent rewards that are temporally far away in the future.\n",
    "\n",
    "The main idea behind Q-learning is that if we had a function\n",
    "$Q^*: State \\times Action \\rightarrow \\mathbb{R}$, that could tell\n",
    "us what our return would be, if we were to take an action in a given\n",
    "state, then we could easily construct a policy that maximizes our\n",
    "rewards:\n",
    "\n",
    "\\begin{align}\\pi^*(s) = \\arg\\!\\max_a \\ Q^*(s, a)\\end{align}\n",
    "\n",
    "However, we don't know everything about the world, so we don't have\n",
    "access to $Q^*$. But, since neural networks are universal function\n",
    "approximators, we can simply create one and train it to resemble\n",
    "$Q^*$.\n",
    "\n",
    "For our training update rule, we'll use a fact that every $Q$\n",
    "function for some policy obeys the Bellman equation:\n",
    "\n",
    "\\begin{align}Q^{\\pi}(s, a) = r + \\gamma Q^{\\pi}(s', \\pi(s'))\\end{align}\n",
    "\n",
    "The difference between the two sides of the equality is known as the\n",
    "temporal difference error, $\\delta$:\n",
    "\n",
    "\\begin{align}\\delta = Q(s, a) - (r + \\gamma \\max_a' Q(s', a))\\end{align}\n",
    "\n",
    "To minimise this error, we will use the [Huber\n",
    "loss](https://en.wikipedia.org/wiki/Huber_loss)_. The Huber loss acts\n",
    "like the mean squared error when the error is small, but like the mean\n",
    "absolute error when the error is large - this makes it more robust to\n",
    "outliers when the estimates of $Q$ are very noisy. We calculate\n",
    "this over a batch of transitions, $B$, sampled from the replay\n",
    "memory:\n",
    "\n",
    "\\begin{align}\\mathcal{L} = \\frac{1}{|B|}\\sum_{(s, a, s', r) \\ \\in \\ B} \\mathcal{L}(\\delta)\\end{align}\n",
    "\n",
    "\\begin{align}\\text{where} \\quad \\mathcal{L}(\\delta) = \\begin{cases}\n",
    "     \\frac{1}{2}{\\delta^2}  & \\text{for } |\\delta| \\le 1, \\\\\n",
    "     |\\delta| - \\frac{1}{2} & \\text{otherwise.}\n",
    "   \\end{cases}\\end{align}\n",
    "\n",
    "### Q-network\n",
    "\n",
    "Our model will be a convolutional neural network that takes in the\n",
    "difference between the current and previous screen patches. It has two\n",
    "outputs, representing $Q(s, \\mathrm{left})$ and\n",
    "$Q(s, \\mathrm{right})$ (where $s$ is the input to the\n",
    "network). In effect, the network is trying to predict the *expected return* of\n",
    "taking each action given the current input.\n",
    "\n",
    "\n"
   ]
  },
  {
   "cell_type": "code",
   "execution_count": 5,
   "metadata": {
    "collapsed": false,
    "jupyter": {
     "outputs_hidden": false
    }
   },
   "outputs": [],
   "source": [
    "from mindspore.common.initializer import initializer, HeUniform, Uniform, _calculate_fan_in_and_fan_out\n",
    "\n",
    "class Dense(nn.Dense):\n",
    "    def __init__(self, in_channels, out_channels, has_bias=True, activation=None):\n",
    "        super().__init__(in_channels, out_channels, weight_init='normal', bias_init='zeros', has_bias=has_bias, activation=activation)\n",
    "        self.reset_parameters()\n",
    "\n",
    "    def reset_parameters(self):\n",
    "        self.weight.set_data(initializer(HeUniform(math.sqrt(5)), self.weight.shape))\n",
    "        if self.has_bias:\n",
    "            fan_in, _ = _calculate_fan_in_and_fan_out(self.weight.shape)\n",
    "            bound = 1 / math.sqrt(fan_in)\n",
    "            self.bias.set_data(initializer(Uniform(bound), [self.out_channels]))\n",
    "\n",
    "class DQN(nn.Cell):\n",
    "\n",
    "    def __init__(self, n_observations, n_actions):\n",
    "        super(DQN, self).__init__()\n",
    "        self.layer1 = Dense(n_observations, 128)\n",
    "        self.layer2 = Dense(128, 128)\n",
    "        self.layer3 = Dense(128, n_actions)\n",
    "\n",
    "    # Called with either one element to determine next action, or a batch\n",
    "    # during optimization. Returns tensor([[left0exp,right0exp]...]).\n",
    "    def construct(self, x):\n",
    "        x = ops.relu(self.layer1(x))\n",
    "        x = ops.relu(self.layer2(x))\n",
    "        return self.layer3(x)"
   ]
  },
  {
   "cell_type": "markdown",
   "metadata": {},
   "source": [
    "## Training\n",
    "\n",
    "### Hyperparameters and utilities\n",
    "This cell instantiates our model and its optimizer, and defines some\n",
    "utilities:\n",
    "\n",
    "-  ``select_action`` - will select an action accordingly to an epsilon\n",
    "   greedy policy. Simply put, we'll sometimes use our model for choosing\n",
    "   the action, and sometimes we'll just sample one uniformly. The\n",
    "   probability of choosing a random action will start at ``EPS_START``\n",
    "   and will decay exponentially towards ``EPS_END``. ``EPS_DECAY``\n",
    "   controls the rate of the decay.\n",
    "-  ``plot_durations`` - a helper for plotting the durations of episodes,\n",
    "   along with an average over the last 100 episodes (the measure used in\n",
    "   the official evaluations). The plot will be underneath the cell\n",
    "   containing the main training loop, and will update after every\n",
    "   episode.\n",
    "\n",
    "\n"
   ]
  },
  {
   "cell_type": "code",
   "execution_count": 6,
   "metadata": {
    "collapsed": false,
    "jupyter": {
     "outputs_hidden": false
    }
   },
   "outputs": [],
   "source": [
    "# BATCH_SIZE is the number of transitions sampled from the replay buffer\n",
    "# GAMMA is the discount factor as mentioned in the previous section\n",
    "# EPS_START is the starting value of epsilon\n",
    "# EPS_END is the final value of epsilon\n",
    "# EPS_DECAY controls the rate of exponential decay of epsilon, higher means a slower decay\n",
    "# TAU is the update rate of the target network\n",
    "# LR is the learning rate of the AdamW optimizer\n",
    "BATCH_SIZE = 128\n",
    "GAMMA = 0.99\n",
    "EPS_START = 0.9\n",
    "EPS_END = 0.05\n",
    "EPS_DECAY = 1000\n",
    "TAU = 0.005\n",
    "LR = 1e-4\n",
    "\n",
    "# Get number of actions from gym action space\n",
    "n_actions = env.action_space.n\n",
    "# Get the number of state observations\n",
    "if gym.__version__[:4] == '0.26':\n",
    "    state, _ = env.reset()\n",
    "elif gym.__version__[:4] == '0.25':\n",
    "    state, _ = env.reset(return_info=True)\n",
    "n_observations = len(state)\n",
    "\n",
    "policy_net = DQN(n_observations, n_actions)\n",
    "target_net = DQN(n_observations, n_actions)\n",
    "target_net.update_parameters_name('target.')\n",
    "target_net_state_dict = target_net.trainable_params()\n",
    "policy_net_state_dict = policy_net.trainable_params()\n",
    "for t_param, p_param in zip(target_net_state_dict, policy_net_state_dict):\n",
    "    ops.assign(t_param, p_param)\n",
    "\n",
    "criterion = nn.SmoothL1Loss(reduction='mean')\n",
    "optimizer = nn.AdamWeightDecay(policy_net.trainable_params(), learning_rate=LR, eps=1e-08, weight_decay=0.01)\n",
    "memory = ReplayMemory(10000)\n",
    "\n",
    "\n",
    "steps_done = 0\n",
    "\n",
    "\n",
    "def select_action(state):\n",
    "    global steps_done\n",
    "    sample = random.random()\n",
    "    eps_threshold = EPS_END + (EPS_START - EPS_END) * \\\n",
    "        math.exp(-1. * steps_done / EPS_DECAY)\n",
    "    steps_done += 1\n",
    "    if sample > eps_threshold:\n",
    "        # t.max(1) will return largest column value of each row.\n",
    "        # second column on max result is index of where max element was\n",
    "        # found, so we pick action with the larger expected reward.\n",
    "        return policy_net(Tensor(state)).argmax(1).view(1, 1).asnumpy()\n",
    "    else:\n",
    "        return np.array([[env.action_space.sample()]], dtype=np.int64)\n",
    "\n",
    "\n",
    "episode_durations = []\n",
    "\n",
    "\n",
    "def plot_durations(show_result=False):\n",
    "    plt.figure(1)\n",
    "    durations_t = mindspore.Tensor(episode_durations, dtype=mindspore.float32)\n",
    "    if show_result:\n",
    "        plt.title('Result')\n",
    "    else:\n",
    "        plt.clf()\n",
    "        plt.title('Training...')\n",
    "    plt.xlabel('Episode')\n",
    "    plt.ylabel('Duration')\n",
    "    plt.plot(durations_t.asnumpy())\n",
    "    # # Take 100 episode averages and plot them too\n",
    "    # if len(durations_t) >= 100:\n",
    "    #     means = durations_t.unfold(0, 100, 1).mean(1).view(-1)\n",
    "    #     means = ops.concat((ops.zeros(99), means))\n",
    "    #     plt.plot(means.asnumpy())\n",
    "\n",
    "    plt.pause(0.001)  # pause a bit so that plots are updated\n",
    "    if is_ipython:\n",
    "        if not show_result:\n",
    "            display.display(plt.gcf())\n",
    "            display.clear_output(wait=True)\n",
    "        else:\n",
    "            display.display(plt.gcf())"
   ]
  },
  {
   "cell_type": "markdown",
   "metadata": {},
   "source": [
    "### Training loop\n",
    "\n",
    "Finally, the code for training our model.\n",
    "\n",
    "Here, you can find an ``optimize_model`` function that performs a\n",
    "single step of the optimization. It first samples a batch, concatenates\n",
    "all the tensors into a single one, computes $Q(s_t, a_t)$ and\n",
    "$V(s_{t+1}) = \\max_a Q(s_{t+1}, a)$, and combines them into our\n",
    "loss. By definition we set $V(s) = 0$ if $s$ is a terminal\n",
    "state. We also use a target network to compute $V(s_{t+1})$ for\n",
    "added stability. The target network is updated at every step with a \n",
    "[soft update](https://arxiv.org/pdf/1509.02971.pdf)_ controlled by \n",
    "the hyperparameter ``TAU``, which was previously defined.\n",
    "\n",
    "\n"
   ]
  },
  {
   "cell_type": "code",
   "execution_count": 7,
   "metadata": {
    "collapsed": false,
    "jupyter": {
     "outputs_hidden": false
    }
   },
   "outputs": [],
   "source": [
    "def forward(state_batch, action_batch, reward_batch, non_final_mask, non_final_next_states):\n",
    "    # Compute Q(s_t, a) - the model computes Q(s_t), then we select the\n",
    "    # columns of actions taken. These are the actions which would've been taken\n",
    "    # for each batch state according to policy_net\n",
    "    state_action_values = policy_net(state_batch).gather_elements(1, action_batch)\n",
    "\n",
    "    # Compute V(s_{t+1}) for all next states.\n",
    "    # Expected values of actions for non_final_next_states are computed based\n",
    "    # on the \"older\" target_net; selecting their best reward with max(1)[0].\n",
    "    # This is merged based on the mask, such that we'll have either the expected\n",
    "    # state value or 0 in case the state was final.\n",
    "    next_state_values = non_final_mask * target_net(non_final_next_states).max(1)\n",
    "    # Compute the expected Q values\n",
    "    expected_state_action_values = (next_state_values * GAMMA) + reward_batch\n",
    "\n",
    "    # Compute Huber loss\n",
    "    loss = criterion(state_action_values, expected_state_action_values.expand_dims(1))\n",
    "    return loss\n",
    "\n",
    "grad_fn = ops.value_and_grad(forward, None, optimizer.parameters)\n",
    "\n",
    "@mindspore.jit\n",
    "def train_step(state_batch, action_batch, reward_batch, non_final_mask, non_final_next_states):\n",
    "    # Optimize the model\n",
    "    loss, grads = grad_fn(state_batch, action_batch, reward_batch, non_final_mask, non_final_next_states)\n",
    "    grads = ops.clip_by_value(grads, -100, 100)\n",
    "    optimizer(grads)\n",
    "    return loss\n",
    "\n",
    "def optimize_model():\n",
    "    if len(memory) < BATCH_SIZE:\n",
    "        return\n",
    "    transitions = memory.sample(BATCH_SIZE)\n",
    "    # Transpose the batch (see https://stackoverflow.com/a/19343/3343043 for\n",
    "    # detailed explanation). This converts batch-array of Transitions\n",
    "    # to Transition of batch-arrays.\n",
    "    batch = Transition(*zip(*transitions))\n",
    "\n",
    "    # Compute a mask of non-final states and concatenate the batch elements\n",
    "    # (a final state would've been the one after which simulation ended)\n",
    "    # non_final_mask = mindspore.Tensor(tuple(map(lambda s: s is not None,\n",
    "    #                                       batch.next_state)), dtype=mindspore.bool_)\n",
    "    # non_final_next_states = ops.concat([s if s is not None else ops.zeros((1, 4)) for s in batch.next_state])\n",
    "    # state_batch = ops.concat(batch.state)\n",
    "    # action_batch = ops.concat(batch.action)\n",
    "    # reward_batch = ops.concat(batch.reward)\n",
    "    non_final_mask = Tensor(tuple(map(lambda s: s is not None,\n",
    "                                          batch.next_state)), dtype=mindspore.bool_)\n",
    "    non_final_next_states = Tensor(np.concatenate([s if s is not None else np.zeros((1, 4)).astype(np.float32) for s in batch.next_state]))\n",
    "    state_batch = Tensor(np.concatenate(batch.state))\n",
    "    action_batch = Tensor(np.concatenate(batch.action))\n",
    "    reward_batch = Tensor(np.concatenate(batch.reward))\n",
    "    train_step(state_batch, action_batch, reward_batch, non_final_mask, non_final_next_states)"
   ]
  },
  {
   "cell_type": "markdown",
   "metadata": {},
   "source": [
    "Below, you can find the main training loop. At the beginning we reset\n",
    "the environment and obtain the initial ``state`` Tensor. Then, we sample\n",
    "an action, execute it, observe the next state and the reward (always\n",
    "1), and optimize our model once. When the episode ends (our model\n",
    "fails), we restart the loop.\n",
    "\n",
    "Below, `num_episodes` is set to 600 if a GPU is available, otherwise 50 \n",
    "episodes are scheduled so training does not take too long. However, 50 \n",
    "episodes is insufficient for to observe good performance on cartpole.\n",
    "You should see the model constantly achieve 500 steps within 600 training \n",
    "episodes. Training RL agents can be a noisy process, so restarting training\n",
    "can produce better results if convergence is not observed.\n",
    "\n",
    "\n"
   ]
  },
  {
   "cell_type": "code",
   "execution_count": 8,
   "metadata": {
    "collapsed": false,
    "jupyter": {
     "outputs_hidden": false
    }
   },
   "outputs": [
    {
     "name": "stdout",
     "output_type": "stream",
     "text": [
      "Complete\n"
     ]
    },
    {
     "data": {
      "image/png": "[encoded data removed]",
      "text/plain": [
       "<Figure size 432x288 with 1 Axes>"
      ]
     },
     "metadata": {
      "needs_background": "light"
     },
     "output_type": "display_data"
    },
    {
     "data": {
      "text/plain": [
       "<Figure size 432x288 with 0 Axes>"
      ]
     },
     "metadata": {},
     "output_type": "display_data"
    },
    {
     "data": {
      "text/plain": [
       "<Figure size 432x288 with 0 Axes>"
      ]
     },
     "metadata": {},
     "output_type": "display_data"
    }
   ],
   "source": [
    "num_episodes = 600\n",
    "\n",
    "for i_episode in range(num_episodes):\n",
    "    # Initialize the environment and get it's state\n",
    "    if gym.__version__[:4] == '0.26':\n",
    "        state, _ = env.reset()\n",
    "    elif gym.__version__[:4] == '0.25':\n",
    "        state, _ = env.reset(return_info=True)\n",
    "    state = np.array([state], dtype=np.float32)\n",
    "    for t in count():\n",
    "        action = select_action(state)\n",
    "        observation, reward, terminated, truncated, _ = env.step(action.item())\n",
    "        reward = np.array([reward], np.float32)\n",
    "        done = terminated or truncated\n",
    "\n",
    "        if terminated:\n",
    "            next_state = None\n",
    "        else:\n",
    "            next_state = np.array([observation], dtype=np.float32)\n",
    "\n",
    "        # Store the transition in memory\n",
    "        memory.push(state, action, next_state, reward)\n",
    "\n",
    "\n",
    "        # Move to the next state\n",
    "        state = next_state\n",
    "\n",
    "        # Perform one step of the optimization (on the policy network)\n",
    "        optimize_model()\n",
    "\n",
    "        # Soft update of the target network's weights\n",
    "        # θ′ ← τ θ + (1 −τ )θ′\n",
    "        target_net_state_dict = target_net.trainable_params()\n",
    "        policy_net_state_dict = policy_net.trainable_params()\n",
    "        for t_param, p_param in zip(target_net_state_dict, policy_net_state_dict):\n",
    "            ops.assign(t_param, (p_param*TAU + t_param*(1-TAU)))\n",
    "\n",
    "        if done:\n",
    "            episode_durations.append(t + 1)\n",
    "            plot_durations()\n",
    "            break\n",
    "\n",
    "print('Complete')\n",
    "plot_durations(show_result=True)\n",
    "plt.ioff()\n",
    "plt.show()"
   ]
  },
  {
   "cell_type": "markdown",
   "metadata": {},
   "source": [
    "Here is the diagram that illustrates the overall resulting data flow.\n",
    "\n",
    ".. figure:: /_static/img/reinforcement_learning_diagram.jpg\n",
    "\n",
    "Actions are chosen either randomly or based on a policy, getting the next\n",
    "step sample from the gym environment. We record the results in the\n",
    "replay memory and also run optimization step on every iteration.\n",
    "Optimization picks a random batch from the replay memory to do training of the\n",
    "new policy. The \"older\" target_net is also used in optimization to compute the\n",
    "expected Q values. A soft update of its weights are performed at every step.\n",
    "\n",
    "\n"
   ]
  }
 ],
 "metadata": {
  "kernelspec": {
   "display_name": "Python 3 (ipykernel)",
   "language": "python",
   "name": "python3"
  },
  "language_info": {
   "codemirror_mode": {
    "name": "ipython",
    "version": 3
   },
   "file_extension": ".py",
   "mimetype": "text/x-python",
   "name": "python",
   "nbconvert_exporter": "python",
   "pygments_lexer": "ipython3",
   "version": "3.7.5"
  }
 },
 "nbformat": 4,
 "nbformat_minor": 4
}
